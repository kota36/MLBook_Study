{
 "cells": [
  {
   "cell_type": "markdown",
   "metadata": {},
   "source": [
    "3.3.2 ベルヌーイ分布"
   ]
  },
  {
   "cell_type": "markdown",
   "metadata": {},
   "source": [
    "##### probability1.py"
   ]
  },
  {
   "cell_type": "code",
   "execution_count": 1,
   "metadata": {},
   "outputs": [
    {
     "name": "stdout",
     "output_type": "stream",
     "text": [
      "データX1:\n",
      "[0 0 1 0 0 0 0 1 0 1]\n",
      "データX2:\n",
      "[0 1 1 0 1 1 0 0 1 1]\n",
      "データX3:\n",
      "[1 0 1 0 0 0 0 0 0 0]\n"
     ]
    }
   ],
   "source": [
    "import numpy as np\n",
    "\n",
    "# p=6/13のベルヌーイ分布を３回試行\n",
    "X1 = np.random.binomial(1,6/13,10)\n",
    "X2 = np.random.binomial(1,6/13,10)\n",
    "X3 = np.random.binomial(1,6/13,10)\n",
    "\n",
    "# 標準出力\n",
    "print(f\"データX1:\\n{X1}\")\n",
    "print(f\"データX2:\\n{X2}\")\n",
    "print(f\"データX3:\\n{X3}\")"
   ]
  }
 ],
 "metadata": {
  "kernelspec": {
   "display_name": "Python 3",
   "language": "python",
   "name": "python3"
  },
  "language_info": {
   "codemirror_mode": {
    "name": "ipython",
    "version": 3
   },
   "file_extension": ".py",
   "mimetype": "text/x-python",
   "name": "python",
   "nbconvert_exporter": "python",
   "pygments_lexer": "ipython3",
   "version": "3.8.5"
  }
 },
 "nbformat": 4,
 "nbformat_minor": 4
}
