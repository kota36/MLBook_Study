{
 "cells": [
  {
   "cell_type": "markdown",
   "metadata": {},
   "source": [
    "3.4.4 分散共分散行列"
   ]
  },
  {
   "cell_type": "markdown",
   "metadata": {},
   "source": [
    "変数$xとy$の各データ点$(x_i,y_i)$からそれぞれ平均$(\\bar{x},\\bar{y})$を引いたベクトルを$X'$とすると、\n",
    "分散共分散行列$\\Sigma$を以下のように表せる\n",
    "$$\n",
    "X' = \n",
    "\\begin{pmatrix}\n",
    "x_1 - \\bar{x} & y_1 - \\bar{y} \\\\\n",
    "x_2 - \\bar{x} & y_2 - \\bar{y} \\\\\n",
    "\\vdots & \\vdots \\\\\n",
    "x_N - \\bar{x} & y_N - \\bar{y} \\\\\n",
    "\\end{pmatrix} \n",
    "$$\n",
    "\n",
    "$$\n",
    "\\Sigma = \\frac{1}{N}X'^{T}X'\n",
    "=\n",
    "\\begin{pmatrix}\n",
    "Var(x) & Cov(x,y) \\\\\n",
    "Cov(y,x) & Var(y)\n",
    "\\end{pmatrix}\n",
    "$$"
   ]
  },
  {
   "cell_type": "markdown",
   "metadata": {},
   "source": [
    "##### statistics2.py"
   ]
  },
  {
   "cell_type": "code",
   "execution_count": 6,
   "metadata": {},
   "outputs": [
    {
     "name": "stdout",
     "output_type": "stream",
     "text": [
      "データ:\n",
      "[[170  60  80]\n",
      " [167  52  93]\n",
      " [174  57  85]\n",
      " [181  70  80]\n",
      " [171  62  70]\n",
      " [171  66  95]\n",
      " [171  66  95]\n",
      " [168  54  85]]\n",
      "\n",
      "分散）身長:16.48, 体重：34.86, 胸囲：67.23\n",
      "\n",
      "標準偏差）身長:16.48, 体重：34.86, 胸囲：67.23\n",
      "\n",
      "分散共分散行列 バイアスあり：\n",
      "[[16.484375 17.078125 -9.859375]\n",
      " [17.078125 34.859375 -3.328125]\n",
      " [-9.859375 -3.328125 67.234375]]\n",
      "\n",
      "分散共分散行列 バイアスなし：\n",
      "[[ 18.83928571  19.51785714 -11.26785714]\n",
      " [ 19.51785714  39.83928571  -3.80357143]\n",
      " [-11.26785714  -3.80357143  76.83928571]]\n",
      "\n"
     ]
    }
   ],
   "source": [
    "import numpy as np\n",
    "\n",
    "# 7行3列の行列を定義\n",
    "X = np.array([[170,60,80], [167,52,93], [174,57,85], [181,70,80], [171,62,70], [171,66,95], [171,66,95], [168,54,85]])\n",
    "\n",
    "# 列方向の分散と標準偏差を計算\n",
    "vars = np.var(X, axis=0)\n",
    "stds = np.var(X, axis=0)\n",
    "\n",
    "# 分散共分散行列の計算\n",
    "cov_nobias = np.cov(X.T)\n",
    "cov_bias = np.cov(X.T, bias=1)\n",
    "\n",
    "# 標準出力\n",
    "print(f\"データ:\\n{X}\\n\")\n",
    "print(f\"分散）身長:{vars[0]:.2f}, 体重：{vars[1]:.2f}, 胸囲：{vars[2]:.2f}\\n\")\n",
    "print(f\"標準偏差）身長:{stds[0]:.2f}, 体重：{stds[1]:.2f}, 胸囲：{stds[2]:.2f}\\n\")\n",
    "\n",
    "print(f\"分散共分散行列 バイアスあり：\\n{cov_bias}\\n\")\n",
    "print(f\"分散共分散行列 バイアスなし：\\n{cov_nobias}\\n\")\n"
   ]
  },
  {
   "cell_type": "markdown",
   "metadata": {},
   "source": [
    "##### statistics3.py"
   ]
  },
  {
   "cell_type": "code",
   "execution_count": 7,
   "metadata": {},
   "outputs": [
    {
     "name": "stdout",
     "output_type": "stream",
     "text": [
      "データ:\n",
      "[[170  60  80]\n",
      " [167  52  93]\n",
      " [174  57  85]\n",
      " [181  70  80]\n",
      " [171  62  70]\n",
      " [171  66  95]\n",
      " [171  66  95]\n",
      " [168  54  85]]\n",
      "\n",
      "相関行列:\n",
      "[[ 1.          0.7124332  -0.2961539 ]\n",
      " [ 0.7124332   1.         -0.06874548]\n",
      " [-0.2961539  -0.06874548  1.        ]]\n",
      "\n"
     ]
    }
   ],
   "source": [
    "import numpy as np\n",
    "\n",
    "# 7行3列の行列を定義\n",
    "X = np.array([[170,60,80], [167,52,93], [174,57,85], [181,70,80], [171,62,70], [171,66,95], [171,66,95], [168,54,85]])\n",
    "\n",
    "# 相関行列の計算\n",
    "corrcoef = np.corrcoef(X.T)\n",
    "\n",
    "# 標準出力\n",
    "print(f\"データ:\\n{X}\\n\")\n",
    "print(f\"相関行列:\\n{corrcoef}\\n\")"
   ]
  }
 ],
 "metadata": {
  "kernelspec": {
   "display_name": "Python 3",
   "language": "python",
   "name": "python3"
  },
  "language_info": {
   "codemirror_mode": {
    "name": "ipython",
    "version": 3
   },
   "file_extension": ".py",
   "mimetype": "text/x-python",
   "name": "python",
   "nbconvert_exporter": "python",
   "pygments_lexer": "ipython3",
   "version": "3.8.5"
  }
 },
 "nbformat": 4,
 "nbformat_minor": 4
}
