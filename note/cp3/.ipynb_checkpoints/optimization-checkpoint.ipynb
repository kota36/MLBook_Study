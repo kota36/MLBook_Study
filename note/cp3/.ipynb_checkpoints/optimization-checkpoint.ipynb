{
 "cells": [
  {
   "cell_type": "markdown",
   "metadata": {},
   "source": [
    "3.2.2 勾配法"
   ]
  },
  {
   "cell_type": "markdown",
   "metadata": {},
   "source": [
    "最急降下法\n",
    "- ランダムにモデルパラメータの初期値$w{(0)}$を設定し、次の式で示すように微分によるマイナスをつけた下降方向にモデルパラメータ$w$を更新する\n",
    "$$\n",
    "w{(t+1)} = \n",
    "w^{(t)} - \\alpha f'(w^{(t)})\n",
    "$$"
   ]
  },
  {
   "cell_type": "markdown",
   "metadata": {},
   "source": [
    "##### optimization2.py"
   ]
  },
  {
   "cell_type": "code",
   "execution_count": 6,
   "metadata": {},
   "outputs": [
    {
     "name": "stdout",
     "output_type": "stream",
     "text": [
      "反復0, w=1.00\n",
      "反復1, w=0.40\n",
      "反復2, w=0.30\n",
      "反復3, w=0.25\n",
      "反復4, w=0.21\n",
      "反復5, w=0.18\n",
      "反復6, w=0.16\n",
      "反復7, w=0.15\n",
      "反復8, w=0.13\n",
      "反復9, w=0.12\n",
      "反復10, w=0.11\n",
      "反復11, w=0.11\n",
      "反復12, w=0.10\n",
      "反復13, w=0.09\n",
      "反復14, w=0.09\n",
      "反復15, w=0.08\n",
      "反復16, w=0.08\n",
      "反復17, w=0.08\n",
      "反復18, w=0.07\n",
      "反復19, w=0.07\n",
      "反復20, w=0.07\n",
      "反復21, w=0.06\n",
      "反復22, w=0.06\n",
      "反復23, w=0.06\n",
      "反復24, w=0.06\n",
      "反復25, w=0.06\n",
      "反復26, w=0.05\n",
      "反復27, w=0.05\n",
      "反復28, w=0.05\n",
      "反復29, w=0.05\n",
      "反復30, w=0.05\n",
      "反復31, w=0.05\n",
      "反復32, w=0.04\n",
      "反復33, w=0.04\n",
      "反復34, w=0.04\n",
      "反復35, w=0.04\n",
      "反復36, w=0.04\n",
      "反復37, w=0.04\n",
      "反復38, w=0.04\n",
      "反復39, w=0.04\n",
      "反復40, w=0.04\n",
      "反復41, w=0.04\n",
      "反復42, w=0.03\n",
      "反復43, w=0.03\n",
      "反復44, w=0.03\n",
      "反復45, w=0.03\n",
      "反復46, w=0.03\n",
      "反復47, w=0.03\n",
      "反復48, w=0.03\n",
      "反復49, w=0.03\n"
     ]
    }
   ],
   "source": [
    "import numpy as np\n",
    "\n",
    "# 学習率の設定\n",
    "alpha = 0.2\n",
    "\n",
    "# パラメータの初期化\n",
    "w = 1\n",
    "\n",
    "for ite in range(50):\n",
    "    print(f\"反復{ite}, w={round(w,2):.2f}\")\n",
    "    \n",
    "    # 最急降下法によるパラメータの更新\n",
    "    w -= alpha * 3 * w**2"
   ]
  },
  {
   "cell_type": "code",
   "execution_count": null,
   "metadata": {},
   "outputs": [],
   "source": []
  }
 ],
 "metadata": {
  "kernelspec": {
   "display_name": "Python 3",
   "language": "python",
   "name": "python3"
  },
  "language_info": {
   "codemirror_mode": {
    "name": "ipython",
    "version": 3
   },
   "file_extension": ".py",
   "mimetype": "text/x-python",
   "name": "python",
   "nbconvert_exporter": "python",
   "pygments_lexer": "ipython3",
   "version": "3.8.5"
  }
 },
 "nbformat": 4,
 "nbformat_minor": 4
}
