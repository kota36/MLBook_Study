{
 "cells": [
  {
   "cell_type": "markdown",
   "metadata": {},
   "source": [
    "3.1.1 ベクトルの定義"
   ]
  },
  {
   "cell_type": "markdown",
   "metadata": {},
   "source": [
    "###### vectorMatrix1.py"
   ]
  },
  {
   "cell_type": "code",
   "execution_count": 3,
   "metadata": {},
   "outputs": [
    {
     "name": "stdout",
     "output_type": "stream",
     "text": [
      "ベクトルw) 形:(2, 1), 型float64\n",
      "[[5.]\n",
      " [3.]]\n",
      "\n",
      "ベクトルx) 形:(2,), 型float64\n",
      "[1. 5.]\n",
      "\n",
      "ベクトルzeros) 形:(1, 5), 型float64\n",
      "[[0. 0. 0. 0. 0.]]\n",
      "\n",
      "ベクトルones) 形:(1, 5), 型float64\n",
      "[[1. 1. 1. 1. 1.]]\n",
      "\n",
      "ベクトルuniform) 形:(1, 5), 型float64\n",
      "[[0.45491535 0.46005621 0.11415046 0.31123291 0.76198702]]\n",
      "\n",
      "ベクトルnormal) 形:(1, 5), 型float64\n",
      "[[ 0.6338789   0.20835844  1.57806757 -0.07404864  0.48053125]]\n",
      "\n"
     ]
    }
   ],
   "source": [
    "import numpy as np\n",
    "\n",
    "# 二行一列\n",
    "w = np.array([[5.0], [3.0]])\n",
    "\n",
    "# 一行二列\n",
    "x = np.array([1.0, 5.0])\n",
    "              \n",
    "# すべての要素が0/１の一行五列のベクトル\n",
    "zeros = np.zeros([1, 5])\n",
    "ones = np.ones([1,5])\n",
    "\n",
    "# 一様分布　一行五列の乱数\n",
    "uniform = np.random.rand(1, 5)\n",
    "\n",
    "# 正規分布　一行五列の乱数\n",
    "normal = np.random.normal(size=[1, 5])\n",
    "\n",
    "# 標準出力\n",
    "\n",
    "print(f\"ベクトルw) 形:{w.shape}, 型{w.dtype}\\n{w}\\n\")\n",
    "print(f\"ベクトルx) 形:{x.shape}, 型{x.dtype}\\n{x}\\n\")\n",
    "print(f\"ベクトルzeros) 形:{zeros.shape}, 型{zeros.dtype}\\n{zeros}\\n\")\n",
    "print(f\"ベクトルones) 形:{ones.shape}, 型{ones.dtype}\\n{ones}\\n\")\n",
    "print(f\"ベクトルuniform) 形:{uniform.shape}, 型{uniform.dtype}\\n{uniform}\\n\")\n",
    "print(f\"ベクトルnormal) 形:{normal.shape}, 型{normal.dtype}\\n{normal}\\n\")\n"
   ]
  },
  {
   "cell_type": "markdown",
   "metadata": {},
   "source": [
    "3.1.2 ベクトルの内積"
   ]
  },
  {
   "cell_type": "markdown",
   "metadata": {},
   "source": [
    "行ベクトル$\\boldsymbol{x}$と列ベクトル$\\boldsymbol{w}$の内積\n",
    "$$\\boldsymbol{xw}=\n",
    "\\begin{pmatrix}x_1,x_2\\end{pmatrix} \\begin{pmatrix}w_1\\\\w_2\\end{pmatrix}\n",
    "= x_1w_1 + x_2w_2\n",
    "\\\\\n",
    "= \\|\\boldsymbol{x}\\| \\|\\boldsymbol{w}\\| cos\\theta\n",
    "$$\n",
    "\n",
    "L2ノルム：同じベクトル同士の内積の平方根\n",
    "$$\n",
    "\\|\\boldsymbol{w}\\|=\\sqrt{\\boldsymbol{w}^{T}\\boldsymbol{w}}\n",
    "= \\sqrt{w_1^{2}+w_2^{2}}\n",
    "$$"
   ]
  },
  {
   "cell_type": "markdown",
   "metadata": {},
   "source": [
    "##### vectorMatrix2.py"
   ]
  },
  {
   "cell_type": "code",
   "execution_count": 9,
   "metadata": {},
   "outputs": [
    {
     "name": "stdout",
     "output_type": "stream",
     "text": [
      "xとwの内積)　形:(1, 1), 型:float64\n",
      "[[20.]]\n",
      "\n",
      "wのノルム)　形:(1, 1), 型:float64\n",
      "[[34.]]\n",
      "\n"
     ]
    }
   ],
   "source": [
    "import numpy as np\n",
    "\n",
    "# 二行一列\n",
    "w = np.array([[5.0], [3.0]])\n",
    "\n",
    "# 一行二列\n",
    "x = np.array([[1.0, 5.0]])\n",
    "\n",
    "# 内積\n",
    "wx = np.matmul(x,w)\n",
    "\n",
    "# ノルム\n",
    "ww = np.matmul(w.T, w)\n",
    "\n",
    "# 標準出力\n",
    "print(f\"xとwの内積)　形:{wx.shape}, 型:{wx.dtype}\\n{wx}\\n\")\n",
    "print(f\"wのノルム)　形:{ww.shape}, 型:{ww.dtype}\\n{ww}\\n\")"
   ]
  },
  {
   "cell_type": "markdown",
   "metadata": {},
   "source": [
    "3.1.8 行列の階数"
   ]
  },
  {
   "cell_type": "markdown",
   "metadata": {},
   "source": [
    "##### 行列のランク\n",
    "行列の行、列ベクトルの中で線形独立なベクトルの数\n",
    "\n",
    "\n",
    "##### 線形独立性\n",
    "二つの相異なる非ゼロのベクトル$\\boldsymbol{v_1}$と$\\boldsymbol{v_2}$が次の式を満たす。\n",
    "$$\n",
    "\\gamma_1 = \\gamma_2 \n",
    "\\Leftrightarrow\n",
    "\\gamma_1 \\boldsymbol{v_1} + \\gamma_2 \\boldsymbol{v_2} = \\boldsymbol{0}\n",
    "$$"
   ]
  },
  {
   "cell_type": "markdown",
   "metadata": {},
   "source": [
    "$$\n",
    "\\boldsymbol{A} = \n",
    "\\begin{pmatrix} 6 & 2 \\\\ 2 & 5\n",
    "\\end{pmatrix}\n",
    "$$\n",
    "如何なる$\\gamma_1$と$\\gamma_2$の組み合わせにおいても線形結合を$\\boldsymbol{0}$にできないため、\n",
    "$rank(\\boldsymbol{A}) = 0$"
   ]
  },
  {
   "cell_type": "markdown",
   "metadata": {},
   "source": [
    "##### 特異行列\n",
    "- ランク落ちする行列<br>\n",
    "- 逆行列が存在しない"
   ]
  },
  {
   "cell_type": "markdown",
   "metadata": {},
   "source": [
    "###### vectorMatrix5.py"
   ]
  },
  {
   "cell_type": "code",
   "execution_count": 11,
   "metadata": {},
   "outputs": [
    {
     "name": "stdout",
     "output_type": "stream",
     "text": [
      "行列A) rank:2\n",
      " 逆行列:\n",
      " [[ 0.19230769 -0.07692308]\n",
      " [-0.07692308  0.23076923]]\n",
      "\n",
      "行列B) rank:1\n",
      " 特異行列\n",
      "\n"
     ]
    }
   ],
   "source": [
    "import numpy as np\n",
    "\n",
    "# 二行二列の行列\n",
    "A = np.array([[6.0, 2.0], [2.0, 5.0] ])\n",
    "B = np.array([[6.0, 3.0], [2.0, 1.0] ])\n",
    "\n",
    "# ランクの計算\n",
    "rankA = np.linalg.matrix_rank(A)\n",
    "rankB = np.linalg.matrix_rank(B)\n",
    "\n",
    "# 逆行列の導出\n",
    "if rankA == len(A):\n",
    "    invA = np.linalg.inv(A)\n",
    "    print(f\"行列A) rank:{rankA}\\n 逆行列:\\n {invA}\\n\")\n",
    "else:\n",
    "    print(f\"行列A) rank:{rankA}\\n 特異行列\\n\")\n",
    "\n",
    "\n",
    "if rankB == len(B):\n",
    "    invB = np.linalg.inv(B)\n",
    "    print(f\"行列B) rank:{rankB}\\n 逆行列:\\n {invB}\\n\")\n",
    "else:\n",
    "    print(f\"行列B) rank:{rankB}\\n 特異行列\\n\")\n"
   ]
  },
  {
   "cell_type": "markdown",
   "metadata": {},
   "source": [
    "3.1.11 固有値"
   ]
  },
  {
   "cell_type": "markdown",
   "metadata": {},
   "source": [
    "固有ベクトル\n",
    "- 任意の行列に対し、拡大または縮小のみが作用されるベクトル\n",
    "- 拡大、縮尺率を固有値\n",
    "例）固有ベクトル$\\boldsymbol{v} = \\begin{pmatrix} \\frac{1}{\\sqrt{2}},\\frac{1}{\\sqrt{2}} \\end{pmatrix}^{T}$に行列$\\boldsymbol{A}$を作用させる\n",
    "$$\n",
    "\\boldsymbol{v'} =\n",
    "\\boldsymbol{Av} =\n",
    "\\begin{pmatrix}\n",
    "3 & 2 \\\\ 4 & 1\n",
    "\\end{pmatrix}\n",
    "\\begin{pmatrix}\n",
    "\\frac{1}{\\sqrt{2}} \\\\ \\frac{1}{\\sqrt{2}\n",
    "} \\end{pmatrix}\n",
    "=\n",
    "5\n",
    "\\begin{pmatrix}\n",
    "\\frac{1}{\\sqrt{2}} \\\\ \\frac{1}{\\sqrt{2}\n",
    "} \\end{pmatrix}\n",
    "=5\\boldsymbol{v}\n",
    "$$"
   ]
  },
  {
   "cell_type": "markdown",
   "metadata": {},
   "source": [
    "固有値問題\n",
    "- 行列$\\boldsymbol{A}$と固有ベクトル$\\boldsymbol{v}$の間には以下の関係が成り立つ\n",
    "$$\n",
    "\\boldsymbol{Av} = \\boldsymbol{\\lambda v} \\\\\n",
    "\\boldsymbol{v} \\neq \\boldsymbol{0}, \\; \\| \\boldsymbol{v} \\| = 1\n",
    "$$"
   ]
  },
  {
   "cell_type": "markdown",
   "metadata": {},
   "source": [
    "3.1.2. 固有値問題の解法"
   ]
  },
  {
   "cell_type": "markdown",
   "metadata": {},
   "source": [
    "$$\n",
    "\\boldsymbol{Av} - \\lambda\\boldsymbol{v} = 0 \\\\\n",
    "(\\boldsymbol{A} - \\lambda\\boldsymbol{I})\\boldsymbol{v} = 0\n",
    "$$\n",
    "- 手順1 $det(\\boldsymbol{A} - \\lambda\\boldsymbol{I})=0$を満たす固有値$\\lambda$を求める\n",
    "- 手順2 固有値$\\lambda$を用いて、固有値問題をを満たす固有ベクトル$\\boldsymbol{v}$を求める"
   ]
  },
  {
   "cell_type": "markdown",
   "metadata": {},
   "source": [
    "例）\n",
    "$$\n",
    "det(\\boldsymbol{A} - \\lambda \\boldsymbol{I})\n",
    "= det\n",
    "\\begin{pmatrix}\n",
    "\\begin{pmatrix}\n",
    "3 & 2 \\\\ 4 & 1\n",
    "\\end{pmatrix}\n",
    "-\n",
    "\\begin{pmatrix}\n",
    "\\lambda & 0 \\\\ 0 & \\lambda\n",
    "\\end{pmatrix}\n",
    "\\end{pmatrix}\n",
    "= 0 \\\\\n",
    "\\rightarrow\n",
    "(3-\\lambda)(1-\\lambda)-8 = 0 \\\\\n",
    "\\rightarrow\n",
    "\\lambda = 5, -1\n",
    "$$\n",
    "次に固有ベクトルを求める.\n",
    "固有値$\\lambda=5$とすると\n",
    "$$\n",
    "det(\\boldsymbol{A} - \\lambda \\boldsymbol{I})\\boldsymbol{v} =\n",
    "\\begin{pmatrix}\n",
    "-2v_{11} + 2v_{21} \\\\ 4v_{11} -4v_{11}\n",
    "\\end{pmatrix}\n",
    "= 0 \\\\\n",
    "\\rightarrow\n",
    "v_{11} = v_{21} \\\\\n",
    "$$\n",
    "固有値ベクトルのノルム$\\| \\boldsymbol{v} \\| = 1$を満たすので\n",
    "$$\n",
    "\\|v_1\\| = \n",
    "\\sqrt{v_{11}^2 + v_{21}^2}=1 \\\\\n",
    "\\rightarrow\n",
    "v_{11} = v_{21} = \\pm\\frac{1}{\\sqrt{2}}\n",
    "$$\n",
    "\n",
    "同様に、固有値$\\lambda=-1$とすると、\n",
    "固有ベクトル$\\boldsymbol{v_2} = \\begin{pmatrix} \\mp \\frac{1}{\\sqrt{5}}, \\pm \\frac{2}{\\sqrt{5}} \\end{pmatrix}$となる。"
   ]
  },
  {
   "cell_type": "markdown",
   "metadata": {},
   "source": [
    "##### vectorMatrix7.py"
   ]
  },
  {
   "cell_type": "code",
   "execution_count": 2,
   "metadata": {},
   "outputs": [
    {
     "name": "stdout",
     "output_type": "stream",
     "text": [
      "固有値：\n",
      "[ 5. -1.]\n",
      "固有ベクトル：\n",
      "[[ 0.70710678 -0.4472136 ]\n",
      " [ 0.70710678  0.89442719]]\n"
     ]
    }
   ],
   "source": [
    "import numpy as np\n",
    "\n",
    "# 行列の定義\n",
    "A = np.array([ [3,2], [4,1] ])\n",
    "\n",
    "# 固有値問題の解の導出\n",
    "L, V = np.linalg.eig(A)\n",
    "\n",
    "# 標準出力\n",
    "print(f\"固有値：\\n{L}\")\n",
    "print(f\"固有ベクトル：\\n{V}\")"
   ]
  },
  {
   "cell_type": "markdown",
   "metadata": {},
   "source": [
    "3.1.13 固有値と固有ベクトルの性質"
   ]
  },
  {
   "cell_type": "markdown",
   "metadata": {},
   "source": [
    "- 性質1  行列$\\boldsymbol{A}$が対称行列(転置しても変化しない行列)の場合、固有ベクトルは互いに正規直行し、固有ベクトルを列に持つ行列$\\boldsymbol{V}$は直行行列になる\n",
    "- 性質2  固有値の和は行列の対角成分の和と一致する\n",
    "- 性質3  固有値の席は行列式と一致する\n",
    "- 性質4  直行行列$\\boldsymbol{V}$の逆行列$\\boldsymbol{V}^{-1}$は転置行列$\\boldsymbol{V}^{T}$と一致する"
   ]
  },
  {
   "cell_type": "markdown",
   "metadata": {},
   "source": [
    "##### vectorMatrix8.py"
   ]
  },
  {
   "cell_type": "code",
   "execution_count": 4,
   "metadata": {},
   "outputs": [
    {
     "name": "stdout",
     "output_type": "stream",
     "text": [
      "行列Aの固有値：\n",
      "[4. 2.]\n",
      "\n",
      "行列Aの固有ベクトル：\n",
      "[[ 0.70710678 -0.70710678]\n",
      " [ 0.70710678  0.70710678]]\n",
      "\n",
      "固有ベクトルの内積：\n",
      "[[0.]]\n",
      "\n",
      "固有値の和：6.0\n",
      "\n",
      "行列Aのトレース（対角成分の和）：6\n",
      "\n",
      "固有値の積：8.0\n",
      "\n",
      "行列Aの行列式：8.0\n",
      "\n",
      "行列Vの逆行列：[[ 0.70710678  0.70710678]\n",
      " [-0.70710678  0.70710678]]\n",
      "\n",
      "行列Vの転置：[[ 0.70710678  0.70710678]\n",
      " [-0.70710678  0.70710678]]\n",
      "\n"
     ]
    }
   ],
   "source": [
    "import numpy as np\n",
    "\n",
    "# 行列の定義\n",
    "A = np.array([ [3,1], [1,3]])\n",
    "\n",
    "# 固有値問題\n",
    "L, V = np.linalg.eig(A)\n",
    "\n",
    "# 標準出力\n",
    "print(f\"行列Aの固有値：\\n{L}\\n\")\n",
    "print(f\"行列Aの固有ベクトル：\\n{V}\\n\")\n",
    "print(f\"固有ベクトルの内積：\\n{np.matmul(V[:,[0]].T, V[:,[1]])}\\n\")\n",
    "print(f\"固有値の和：{np.sum(L)}\\n\")\n",
    "print(f\"行列Aのトレース（対角成分の和）：{np.sum(np.diag(A))}\\n\")\n",
    "print(f\"固有値の積：{np.prod(L)}\\n\")\n",
    "print(f\"行列Aの行列式：{np.linalg.det(A):.1f}\\n\")\n",
    "print(f\"行列Vの逆行列：{np.linalg.inv(V)}\\n\")\n",
    "print(f\"行列Vの転置：{V.T}\\n\")"
   ]
  },
  {
   "cell_type": "code",
   "execution_count": null,
   "metadata": {},
   "outputs": [],
   "source": []
  }
 ],
 "metadata": {
  "kernelspec": {
   "display_name": "Python 3",
   "language": "python",
   "name": "python3"
  },
  "language_info": {
   "codemirror_mode": {
    "name": "ipython",
    "version": 3
   },
   "file_extension": ".py",
   "mimetype": "text/x-python",
   "name": "python",
   "nbconvert_exporter": "python",
   "pygments_lexer": "ipython3",
   "version": "3.8.5"
  }
 },
 "nbformat": 4,
 "nbformat_minor": 4
}
